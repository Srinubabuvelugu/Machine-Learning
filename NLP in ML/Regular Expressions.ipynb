{
 "cells": [
  {
   "cell_type": "code",
   "execution_count": 2,
   "id": "2c8ab258",
   "metadata": {},
   "outputs": [],
   "source": [
    "import re \n",
    "string = \"The rain falls in India\"\n"
   ]
  },
  {
   "cell_type": "markdown",
   "id": "890f00fa",
   "metadata": {},
   "source": [
    "## Regular Expresion Functions\n",
    "1. findall()\n",
    "2. search()\n",
    "3. sub()\n",
    "4. split()"
   ]
  },
  {
   "cell_type": "markdown",
   "id": "60e79c19",
   "metadata": {},
   "source": [
    "### Special Sequences"
   ]
  },
  {
   "cell_type": "code",
   "execution_count": 3,
   "id": "7d5f48d3",
   "metadata": {},
   "outputs": [
    {
     "data": {
      "text/plain": [
       "['The']"
      ]
     },
     "execution_count": 3,
     "metadata": {},
     "output_type": "execute_result"
    }
   ],
   "source": [
    "re.findall(\"\\AThe\",string)"
   ]
  },
  {
   "cell_type": "code",
   "execution_count": 4,
   "id": "5efaa421",
   "metadata": {},
   "outputs": [
    {
     "data": {
      "text/plain": [
       "<re.Match object; span=(0, 3), match='The'>"
      ]
     },
     "execution_count": 4,
     "metadata": {},
     "output_type": "execute_result"
    }
   ],
   "source": [
    "re.search(\"\\AThe\",string)\n"
   ]
  },
  {
   "cell_type": "code",
   "execution_count": 5,
   "id": "8ba9c840",
   "metadata": {},
   "outputs": [
    {
     "data": {
      "text/plain": [
       "'The rain falls in India'"
      ]
     },
     "execution_count": 5,
     "metadata": {},
     "output_type": "execute_result"
    }
   ],
   "source": [
    "re.search(\"\\AThe\",string).string"
   ]
  },
  {
   "cell_type": "code",
   "execution_count": 6,
   "id": "3e151f1f",
   "metadata": {},
   "outputs": [
    {
     "data": {
      "text/plain": [
       "(0, 3)"
      ]
     },
     "execution_count": 6,
     "metadata": {},
     "output_type": "execute_result"
    }
   ],
   "source": [
    "re.search(\"\\AThe\",string).span()"
   ]
  },
  {
   "cell_type": "code",
   "execution_count": 7,
   "id": "ba6d6f3c",
   "metadata": {},
   "outputs": [
    {
     "data": {
      "text/plain": [
       "'The'"
      ]
     },
     "execution_count": 7,
     "metadata": {},
     "output_type": "execute_result"
    }
   ],
   "source": [
    "re.search(\"\\AThe\",string).group()"
   ]
  },
  {
   "cell_type": "code",
   "execution_count": 10,
   "id": "0f83c949",
   "metadata": {},
   "outputs": [
    {
     "data": {
      "text/plain": [
       "['a', 'a', 'a']"
      ]
     },
     "execution_count": 10,
     "metadata": {},
     "output_type": "execute_result"
    }
   ],
   "source": [
    " \n",
    "re.findall(\"[a]\",string)"
   ]
  },
  {
   "cell_type": "code",
   "execution_count": 12,
   "id": "51700611",
   "metadata": {},
   "outputs": [
    {
     "data": {
      "text/plain": [
       "['The']"
      ]
     },
     "execution_count": 12,
     "metadata": {},
     "output_type": "execute_result"
    }
   ],
   "source": [
    "re.findall(r\"\\bThe\",string)"
   ]
  },
  {
   "cell_type": "code",
   "execution_count": 13,
   "id": "9994a5a2",
   "metadata": {},
   "outputs": [
    {
     "data": {
      "text/plain": [
       "['ai']"
      ]
     },
     "execution_count": 13,
     "metadata": {},
     "output_type": "execute_result"
    }
   ],
   "source": [
    "re.findall(r\"\\Bai\",string)"
   ]
  },
  {
   "cell_type": "code",
   "execution_count": null,
   "id": "7ce1f679",
   "metadata": {},
   "outputs": [],
   "source": []
  }
 ],
 "metadata": {
  "kernelspec": {
   "display_name": "Python 3 (ipykernel)",
   "language": "python",
   "name": "python3"
  },
  "language_info": {
   "codemirror_mode": {
    "name": "ipython",
    "version": 3
   },
   "file_extension": ".py",
   "mimetype": "text/x-python",
   "name": "python",
   "nbconvert_exporter": "python",
   "pygments_lexer": "ipython3",
   "version": "3.11.3"
  }
 },
 "nbformat": 4,
 "nbformat_minor": 5
}
